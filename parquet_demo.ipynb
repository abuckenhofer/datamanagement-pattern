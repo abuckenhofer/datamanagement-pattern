{
  "nbformat": 4,
  "nbformat_minor": 0,
  "metadata": {
    "colab": {
      "provenance": [],
      "authorship_tag": "ABX9TyMJtfQeYsqP4jH2/mvDtn2/",
      "include_colab_link": true
    },
    "kernelspec": {
      "name": "python3",
      "display_name": "Python 3"
    },
    "language_info": {
      "name": "python"
    }
  },
  "cells": [
    {
      "cell_type": "markdown",
      "metadata": {
        "id": "view-in-github",
        "colab_type": "text"
      },
      "source": [
        "<a href=\"https://colab.research.google.com/github/abuckenhofer/datamanagement-pattern/blob/main/parquet_demo.ipynb\" target=\"_parent\"><img src=\"https://colab.research.google.com/assets/colab-badge.svg\" alt=\"Open In Colab\"/></a>"
      ]
    },
    {
      "cell_type": "code",
      "execution_count": 1,
      "metadata": {
        "id": "C5STQkuxQDqv"
      },
      "outputs": [],
      "source": [
        "!pip install pyarrow pandas duckdb --quiet\n"
      ]
    },
    {
      "cell_type": "code",
      "source": [
        "import pandas as pd\n",
        "\n",
        "# Sample DataFrame\n",
        "data = {\n",
        "    \"name\": [\"Alice\", \"Bob\", \"Charlie\", \"Diana\"],\n",
        "    \"age\": [25, 30, 35, 40],\n",
        "    \"city\": [\"NY\", \"LA\", \"Chicago\", \"Houston\"]\n",
        "}\n",
        "df = pd.DataFrame(data)\n",
        "\n",
        "# Write to Parquet\n",
        "df.to_parquet(\"people.parquet\", engine=\"pyarrow\")\n",
        "print(\"✅ Data written to people.parquet\")\n"
      ],
      "metadata": {
        "colab": {
          "base_uri": "https://localhost:8080/"
        },
        "id": "0104K34bQJJj",
        "outputId": "200d1564-0278-481e-b735-d593f2c0d634"
      },
      "execution_count": 2,
      "outputs": [
        {
          "output_type": "stream",
          "name": "stdout",
          "text": [
            "✅ Data written to people.parquet\n"
          ]
        }
      ]
    },
    {
      "cell_type": "code",
      "source": [
        "df_from_parquet = pd.read_parquet(\"people.parquet\", engine=\"pyarrow\")\n",
        "print(\"📖 Data read from Parquet:\")\n",
        "print(df_from_parquet)\n"
      ],
      "metadata": {
        "colab": {
          "base_uri": "https://localhost:8080/"
        },
        "id": "eR_oDBHVQMCY",
        "outputId": "4d4f1e02-85a5-4cf4-9c7a-a2c608f5ff85"
      },
      "execution_count": 3,
      "outputs": [
        {
          "output_type": "stream",
          "name": "stdout",
          "text": [
            "📖 Data read from Parquet:\n",
            "      name  age     city\n",
            "0    Alice   25       NY\n",
            "1      Bob   30       LA\n",
            "2  Charlie   35  Chicago\n",
            "3    Diana   40  Houston\n"
          ]
        }
      ]
    },
    {
      "cell_type": "code",
      "source": [
        "import duckdb\n",
        "\n",
        "query = \"\"\"\n",
        "SELECT * FROM read_parquet('people.parquet')\n",
        "WHERE age > 30\n",
        "\"\"\"\n",
        "result = duckdb.query(query).to_df()\n",
        "print(\"🔍 Query Result (age > 30):\")\n",
        "print(result)\n"
      ],
      "metadata": {
        "colab": {
          "base_uri": "https://localhost:8080/"
        },
        "id": "WxARiM42QOwG",
        "outputId": "d2d6cf15-dbf6-427c-9ecf-515fd1904d51"
      },
      "execution_count": 4,
      "outputs": [
        {
          "output_type": "stream",
          "name": "stdout",
          "text": [
            "🔍 Query Result (age > 30):\n",
            "      name  age     city\n",
            "0  Charlie   35  Chicago\n",
            "1    Diana   40  Houston\n"
          ]
        }
      ]
    }
  ]
}